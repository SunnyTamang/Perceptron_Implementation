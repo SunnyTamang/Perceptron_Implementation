{
 "cells": [
  {
   "cell_type": "code",
   "execution_count": 31,
   "metadata": {},
   "outputs": [],
   "source": [
    "import os\n",
    "import matplotlib.pyplot as plt\n",
    "import joblib\n",
    "import numpy as np\n",
    "import pandas as pd\n",
    "plt.style.use('fivethirtyeight')"
   ]
  },
  {
   "cell_type": "code",
   "execution_count": 46,
   "metadata": {},
   "outputs": [],
   "source": [
    "class Perceptron:\n",
    "    def __init__(self, eta: float=None, epochs: int=None):\n",
    "        self.weights = np.random.randn(3) * 1e-4\n",
    "        self.eta = eta # Learning  rate\n",
    "        self.epochs = epochs # Iterations\n",
    "\n",
    "    def _z_outcome(self, inputs, weights):\n",
    "        return np.dot(inputs, weights)\n",
    "    \n",
    "\n",
    "    def activation_function(self, z):\n",
    "        return np.where(z > 0, 1, 0)#if z is greater than 0 put 1 else put 0\n",
    "\n",
    "\n",
    "    def fit(self, X, y):\n",
    "        self.X = X\n",
    "        self.y = y\n",
    "    \n",
    "        X_with_bias = np.c_[self.X, -np.ones((len(self.X),1))]\n",
    "        print(f'X_with_bias: \\n{X_with_bias}')\n",
    "\n",
    "        for epoch in range(self.epochs):\n",
    "            print(\"__\"*10)\n",
    "            print(f'for epoch >> {epoch + 1}')\n",
    "            print('__'*10)\n",
    "            z = self._z_outcome(X_with_bias, self.weights)\n",
    "            y_hat = self.activation_function(z)\n",
    "\n",
    "            print(f'predicted value after the forward pass: \\n{y_hat}')\n",
    "\n",
    "            self.error = self.y - y_hat\n",
    "            print(f'Error at every step: \\n{self.error}')\n",
    "\n",
    "            self.weights = self.weights + self.eta * np.dot(X_with_bias.T, self.error)\n",
    "            print(f'updated wioghts after ephoc: {epoch + 1}/{self.epochs}: \\n {self.weights}')\n",
    "            print('##'*10)\n",
    "\n",
    "    def predict(self, X):\n",
    "        X_with_bias = np.c_[X, -np.ones((len(X),1))]\n",
    "        z = self._z_outcome(X_with_bias, self.weights)\n",
    "        return self.activation_function(z)\n",
    "\n",
    "       "
   ]
  },
  {
   "cell_type": "code",
   "execution_count": 26,
   "metadata": {},
   "outputs": [],
   "source": [
    "obj = Perceptron(eta=0.01, epochs=10)"
   ]
  },
  {
   "cell_type": "code",
   "execution_count": 14,
   "metadata": {},
   "outputs": [
    {
     "data": {
      "text/plain": [
       "0.01"
      ]
     },
     "execution_count": 14,
     "metadata": {},
     "output_type": "execute_result"
    }
   ],
   "source": [
    "obj.eta"
   ]
  },
  {
   "cell_type": "code",
   "execution_count": 15,
   "metadata": {},
   "outputs": [
    {
     "data": {
      "text/plain": [
       "10"
      ]
     },
     "execution_count": 15,
     "metadata": {},
     "output_type": "execute_result"
    }
   ],
   "source": [
    "obj.epochs"
   ]
  },
  {
   "cell_type": "code",
   "execution_count": 16,
   "metadata": {},
   "outputs": [
    {
     "data": {
      "text/plain": [
       "array([ 9.81353770e-05, -3.92539363e-05, -5.42446417e-05])"
      ]
     },
     "execution_count": 16,
     "metadata": {},
     "output_type": "execute_result"
    }
   ],
   "source": [
    "obj.weights"
   ]
  },
  {
   "cell_type": "code",
   "execution_count": 27,
   "metadata": {},
   "outputs": [],
   "source": [
    "X = np.ones((4,2))"
   ]
  },
  {
   "cell_type": "code",
   "execution_count": 19,
   "metadata": {},
   "outputs": [
    {
     "data": {
      "text/plain": [
       "array([[1., 1.],\n",
       "       [1., 1.],\n",
       "       [1., 1.],\n",
       "       [1., 1.]])"
      ]
     },
     "execution_count": 19,
     "metadata": {},
     "output_type": "execute_result"
    }
   ],
   "source": [
    "X"
   ]
  },
  {
   "cell_type": "code",
   "execution_count": 28,
   "metadata": {},
   "outputs": [],
   "source": [
    "y = np.ones((4,1))"
   ]
  },
  {
   "cell_type": "code",
   "execution_count": 21,
   "metadata": {},
   "outputs": [
    {
     "data": {
      "text/plain": [
       "array([[1.],\n",
       "       [1.],\n",
       "       [1.],\n",
       "       [1.]])"
      ]
     },
     "execution_count": 21,
     "metadata": {},
     "output_type": "execute_result"
    }
   ],
   "source": [
    "y"
   ]
  },
  {
   "cell_type": "code",
   "execution_count": 29,
   "metadata": {},
   "outputs": [
    {
     "name": "stdout",
     "output_type": "stream",
     "text": [
      "X_with_bias: \n",
      "[[ 1.  1. -1.]\n",
      " [ 1.  1. -1.]\n",
      " [ 1.  1. -1.]\n",
      " [ 1.  1. -1.]]\n"
     ]
    }
   ],
   "source": [
    "obj.fit(X,y)"
   ]
  },
  {
   "cell_type": "code",
   "execution_count": 34,
   "metadata": {},
   "outputs": [
    {
     "data": {
      "text/html": [
       "<div>\n",
       "<style scoped>\n",
       "    .dataframe tbody tr th:only-of-type {\n",
       "        vertical-align: middle;\n",
       "    }\n",
       "\n",
       "    .dataframe tbody tr th {\n",
       "        vertical-align: top;\n",
       "    }\n",
       "\n",
       "    .dataframe thead th {\n",
       "        text-align: right;\n",
       "    }\n",
       "</style>\n",
       "<table border=\"1\" class=\"dataframe\">\n",
       "  <thead>\n",
       "    <tr style=\"text-align: right;\">\n",
       "      <th></th>\n",
       "      <th>x1</th>\n",
       "      <th>x2</th>\n",
       "      <th>y</th>\n",
       "    </tr>\n",
       "  </thead>\n",
       "  <tbody>\n",
       "    <tr>\n",
       "      <th>0</th>\n",
       "      <td>0</td>\n",
       "      <td>0</td>\n",
       "      <td>0</td>\n",
       "    </tr>\n",
       "    <tr>\n",
       "      <th>1</th>\n",
       "      <td>0</td>\n",
       "      <td>1</td>\n",
       "      <td>1</td>\n",
       "    </tr>\n",
       "    <tr>\n",
       "      <th>2</th>\n",
       "      <td>1</td>\n",
       "      <td>0</td>\n",
       "      <td>1</td>\n",
       "    </tr>\n",
       "    <tr>\n",
       "      <th>3</th>\n",
       "      <td>1</td>\n",
       "      <td>1</td>\n",
       "      <td>1</td>\n",
       "    </tr>\n",
       "  </tbody>\n",
       "</table>\n",
       "</div>"
      ],
      "text/plain": [
       "   x1  x2  y\n",
       "0   0   0  0\n",
       "1   0   1  1\n",
       "2   1   0  1\n",
       "3   1   1  1"
      ]
     },
     "execution_count": 34,
     "metadata": {},
     "output_type": "execute_result"
    }
   ],
   "source": [
    "# Lets prepare the data\n",
    "\n",
    "OR = {\n",
    "    \"x1\": [0,0,1,1],\n",
    "    \"x2\":[0,1,0,1],\n",
    "    \"y\":[0,1,1,1]\n",
    "}\n",
    "\n",
    "df_OR = pd.DataFrame(OR)\n",
    "\n",
    "df_OR"
   ]
  },
  {
   "cell_type": "code",
   "execution_count": 35,
   "metadata": {},
   "outputs": [],
   "source": [
    "def prepare_data(df, target_col=\"y\"):\n",
    "    X = df.drop(target_col,axis=1)\n",
    "    y = df[target_col]\n",
    "    return X, y"
   ]
  },
  {
   "cell_type": "code",
   "execution_count": 47,
   "metadata": {},
   "outputs": [],
   "source": [
    "X, y = prepare_data(df_OR)\n",
    "\n",
    "ETA  = 0.1\n",
    "EPOCHS = 10\n",
    "\n",
    "model_or = Perceptron(eta=ETA, epochs=EPOCHS)"
   ]
  },
  {
   "cell_type": "code",
   "execution_count": 52,
   "metadata": {},
   "outputs": [
    {
     "name": "stdout",
     "output_type": "stream",
     "text": [
      "X_with_bias: \n",
      "[[ 0.  0. -1.]\n",
      " [ 0.  1. -1.]\n",
      " [ 1.  0. -1.]\n",
      " [ 1.  1. -1.]]\n",
      "____________________\n",
      "for epoch >> 1\n",
      "____________________\n",
      "predicted value after the forward pass: \n",
      "[0 1 1 1]\n",
      "Error at every step: \n",
      "0    0\n",
      "1    0\n",
      "2    0\n",
      "3    0\n",
      "Name: y, dtype: int64\n",
      "updated wioghts after ephoc: 1/10: \n",
      " [0.09986632 0.09982984 0.09979821]\n",
      "####################\n",
      "____________________\n",
      "for epoch >> 2\n",
      "____________________\n",
      "predicted value after the forward pass: \n",
      "[0 1 1 1]\n",
      "Error at every step: \n",
      "0    0\n",
      "1    0\n",
      "2    0\n",
      "3    0\n",
      "Name: y, dtype: int64\n",
      "updated wioghts after ephoc: 2/10: \n",
      " [0.09986632 0.09982984 0.09979821]\n",
      "####################\n",
      "____________________\n",
      "for epoch >> 3\n",
      "____________________\n",
      "predicted value after the forward pass: \n",
      "[0 1 1 1]\n",
      "Error at every step: \n",
      "0    0\n",
      "1    0\n",
      "2    0\n",
      "3    0\n",
      "Name: y, dtype: int64\n",
      "updated wioghts after ephoc: 3/10: \n",
      " [0.09986632 0.09982984 0.09979821]\n",
      "####################\n",
      "____________________\n",
      "for epoch >> 4\n",
      "____________________\n",
      "predicted value after the forward pass: \n",
      "[0 1 1 1]\n",
      "Error at every step: \n",
      "0    0\n",
      "1    0\n",
      "2    0\n",
      "3    0\n",
      "Name: y, dtype: int64\n",
      "updated wioghts after ephoc: 4/10: \n",
      " [0.09986632 0.09982984 0.09979821]\n",
      "####################\n",
      "____________________\n",
      "for epoch >> 5\n",
      "____________________\n",
      "predicted value after the forward pass: \n",
      "[0 1 1 1]\n",
      "Error at every step: \n",
      "0    0\n",
      "1    0\n",
      "2    0\n",
      "3    0\n",
      "Name: y, dtype: int64\n",
      "updated wioghts after ephoc: 5/10: \n",
      " [0.09986632 0.09982984 0.09979821]\n",
      "####################\n",
      "____________________\n",
      "for epoch >> 6\n",
      "____________________\n",
      "predicted value after the forward pass: \n",
      "[0 1 1 1]\n",
      "Error at every step: \n",
      "0    0\n",
      "1    0\n",
      "2    0\n",
      "3    0\n",
      "Name: y, dtype: int64\n",
      "updated wioghts after ephoc: 6/10: \n",
      " [0.09986632 0.09982984 0.09979821]\n",
      "####################\n",
      "____________________\n",
      "for epoch >> 7\n",
      "____________________\n",
      "predicted value after the forward pass: \n",
      "[0 1 1 1]\n",
      "Error at every step: \n",
      "0    0\n",
      "1    0\n",
      "2    0\n",
      "3    0\n",
      "Name: y, dtype: int64\n",
      "updated wioghts after ephoc: 7/10: \n",
      " [0.09986632 0.09982984 0.09979821]\n",
      "####################\n",
      "____________________\n",
      "for epoch >> 8\n",
      "____________________\n",
      "predicted value after the forward pass: \n",
      "[0 1 1 1]\n",
      "Error at every step: \n",
      "0    0\n",
      "1    0\n",
      "2    0\n",
      "3    0\n",
      "Name: y, dtype: int64\n",
      "updated wioghts after ephoc: 8/10: \n",
      " [0.09986632 0.09982984 0.09979821]\n",
      "####################\n",
      "____________________\n",
      "for epoch >> 9\n",
      "____________________\n",
      "predicted value after the forward pass: \n",
      "[0 1 1 1]\n",
      "Error at every step: \n",
      "0    0\n",
      "1    0\n",
      "2    0\n",
      "3    0\n",
      "Name: y, dtype: int64\n",
      "updated wioghts after ephoc: 9/10: \n",
      " [0.09986632 0.09982984 0.09979821]\n",
      "####################\n",
      "____________________\n",
      "for epoch >> 10\n",
      "____________________\n",
      "predicted value after the forward pass: \n",
      "[0 1 1 1]\n",
      "Error at every step: \n",
      "0    0\n",
      "1    0\n",
      "2    0\n",
      "3    0\n",
      "Name: y, dtype: int64\n",
      "updated wioghts after ephoc: 10/10: \n",
      " [0.09986632 0.09982984 0.09979821]\n",
      "####################\n"
     ]
    }
   ],
   "source": [
    "model_or.fit(X,y)"
   ]
  },
  {
   "cell_type": "code",
   "execution_count": 50,
   "metadata": {},
   "outputs": [
    {
     "data": {
      "text/plain": [
       "array([0, 1, 1, 1])"
      ]
     },
     "execution_count": 50,
     "metadata": {},
     "output_type": "execute_result"
    }
   ],
   "source": [
    "model_or.predict(X)"
   ]
  },
  {
   "cell_type": "code",
   "execution_count": 51,
   "metadata": {},
   "outputs": [
    {
     "data": {
      "text/plain": [
       "array([1])"
      ]
     },
     "execution_count": 51,
     "metadata": {},
     "output_type": "execute_result"
    }
   ],
   "source": [
    "model_or.predict(X=[[1,1]])"
   ]
  }
 ],
 "metadata": {
  "interpreter": {
   "hash": "f10d1148179e808857118b094bfd3c50538d1db8926ddd2c88cc158caaa7949a"
  },
  "kernelspec": {
   "display_name": "Python 3.7.13 (conda)",
   "language": "python",
   "name": "python3"
  },
  "language_info": {
   "name": "python",
   "version": "3.7.13"
  },
  "orig_nbformat": 4
 },
 "nbformat": 4,
 "nbformat_minor": 2
}
